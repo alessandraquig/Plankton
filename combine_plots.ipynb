{
 "cells": [
  {
   "cell_type": "code",
   "execution_count": 3,
   "metadata": {},
   "outputs": [],
   "source": [
    "import matplotlib\n",
    "import matplotlib.pyplot as plt\n",
    "import plotting_functions as pf\n",
    "matplotlib.use('Agg')\n",
    "\n",
    "from matplotlib import rc\n",
    "this_rc_params = {\n",
    "    \"text.usetex\": True,\n",
    "    \"font.family\": \"roman\"\n",
    "}\n",
    "plt.rcParams.update(this_rc_params)"
   ]
  },
  {
   "cell_type": "markdown",
   "metadata": {},
   "source": [
    "### Plotting environmental data"
   ]
  },
  {
   "cell_type": "code",
   "execution_count": 2,
   "metadata": {},
   "outputs": [
    {
     "name": "stdout",
     "output_type": "stream",
     "text": [
      "Variable name: DO_200m\n",
      "1.2543131 322.0354\n",
      "Variable name: temperature\n",
      "-1.6358585 29.574848\n",
      "0.0004274191 7.342948\n",
      "[[False False False ... -- -- --]\n",
      " [False False False ... -- -- --]\n",
      " [False False False ... -- -- --]\n",
      " ...\n",
      " [False False False ... -- -- --]\n",
      " [False False False ... -- -- --]\n",
      " [False False False ... -- -- --]]\n",
      "min = 0.04377073794603348, max = 4.768930435180664, mean = 0.24156956878662864\n"
     ]
    }
   ],
   "source": [
    "# Plot environmental data (Figure 1)\n",
    "rows = 2\n",
    "cols = 2\n",
    "fig_enviro = plt.figure(figsize=(10, 8))\n",
    "fig_enviro.suptitle(\"Environmental Factors\", fontsize=16)\n",
    "im_DO, ax_DO, cbar_DO = pf.DO(layer='depth', fig=fig_enviro, rows=rows, cols=cols, pos=1)\n",
    "ax_DO.set_title(r'Dissolved Oxygen ($mmol/m^{3}$)')\n",
    "im_SST, ax_SST, cbar_SST = pf.SST(fig=fig_enviro, rows=rows, cols=cols, pos=2)\n",
    "ax_SST.set_title(r'Sea Surface Temperature ($^{\\circ}$C)')\n",
    "im_SiNO3, ax_SiNO3, cbar_SiNO3 = pf.SiNO3(layer='surf', fig=fig_enviro, rows=rows, cols=cols, pos=3)\n",
    "ax_SiNO3.set_title(r'Silicate/Nitrate Ratio')\n",
    "im_chlorophyll, ax_chlorophyll, cbar_chlorophyll = pf.chlorophyll(fig=fig_enviro, rows=rows, cols=cols, pos=4)\n",
    "ax_chlorophyll.set_title(r'Chlorophyll Concentration ($mg/m^{3}$)')\n",
    "plt.tight_layout()\n",
    "plt.savefig('Output/environmental_factors.pdf')"
   ]
  },
  {
   "cell_type": "markdown",
   "metadata": {},
   "source": [
    "### Plotting richness, nestedness, turnover, and Getis-Ord"
   ]
  },
  {
   "cell_type": "code",
   "execution_count": 3,
   "metadata": {},
   "outputs": [
    {
     "name": "stdout",
     "output_type": "stream",
     "text": [
      "0.01 358.1487\n",
      "1.5758242e-05 3.0126288\n",
      "Variable name: phytonestednesssurf\n",
      "-0.05500715 1.0\n",
      "4.3431305e-06 1.0\n"
     ]
    },
    {
     "name": "stderr",
     "output_type": "stream",
     "text": [
      "c:\\Users\\hp\\miniconda3\\envs\\plankton_proj\\lib\\site-packages\\cartopy\\mpl\\geoaxes.py:1655: UserWarning: Log scale: values of z <= 0 have been masked\n",
      "  result = super().contourf(*args, **kwargs)\n"
     ]
    }
   ],
   "source": [
    "# Epipelagic phytoplankton\n",
    "rows = 2\n",
    "cols = 2\n",
    "layer = 'surf'\n",
    "plankton = 'phyto'\n",
    "fig_bio = plt.figure(figsize=(10, 8))\n",
    "fig_bio.suptitle(r\"Epipelagic Phytoplankton\", fontsize=16)\n",
    "im_rich, ax_rich, cbar_rich = pf.richness(plankton=plankton, layer=layer, fig=fig_bio, rows=rows, cols=cols, pos=1)\n",
    "ax_rich.set_title(r'Richness')\n",
    "im_getis, ax_getis, cbar_getis = pf.getis(plankton=plankton, layer=layer, fig=fig_bio, rows=rows, cols=cols, pos=2)\n",
    "ax_getis.set_title(r'Gi\\*')\n",
    "im_nest, ax_nest, cbar_nest = pf.nestedness(plankton=plankton, layer=layer, fig=fig_bio, rows=rows, cols=cols, pos=3)\n",
    "ax_nest.set_title(r'Nestedness')\n",
    "im_turn, ax_turn, cbar_turn = pf.turnover(plankton=plankton, layer=layer, fig=fig_bio, rows=rows, cols=cols, pos=4)\n",
    "ax_turn.set_title(r'Turnover')\n",
    "plt.tight_layout()\n",
    "plt.savefig('Output/epipelagic_phytoplankton.pdf')\n"
   ]
  },
  {
   "cell_type": "code",
   "execution_count": 4,
   "metadata": {},
   "outputs": [
    {
     "name": "stdout",
     "output_type": "stream",
     "text": [
      "0.77725846 17.931772\n",
      "6.3237224e-09 2.3883512\n"
     ]
    },
    {
     "ename": "FileNotFoundError",
     "evalue": "[Errno 2] No such file or directory: 'Data/phytonestednessdepth.nc'",
     "output_type": "error",
     "traceback": [
      "\u001b[1;31m---------------------------------------------------------------------------\u001b[0m",
      "\u001b[1;31mFileNotFoundError\u001b[0m                         Traceback (most recent call last)",
      "Cell \u001b[1;32mIn[4], line 12\u001b[0m\n\u001b[0;32m     10\u001b[0m im_getis, ax_getis, cbar_getis \u001b[38;5;241m=\u001b[39m pf\u001b[38;5;241m.\u001b[39mgetis(plankton\u001b[38;5;241m=\u001b[39mplankton, layer\u001b[38;5;241m=\u001b[39mlayer, fig\u001b[38;5;241m=\u001b[39mfig_bio, rows\u001b[38;5;241m=\u001b[39mrows, cols\u001b[38;5;241m=\u001b[39mcols, pos\u001b[38;5;241m=\u001b[39m\u001b[38;5;241m2\u001b[39m)\n\u001b[0;32m     11\u001b[0m ax_getis\u001b[38;5;241m.\u001b[39mset_title(\u001b[38;5;124mr\u001b[39m\u001b[38;5;124m'\u001b[39m\u001b[38;5;124mGi\u001b[39m\u001b[38;5;124m\\\u001b[39m\u001b[38;5;124m*\u001b[39m\u001b[38;5;124m'\u001b[39m)\n\u001b[1;32m---> 12\u001b[0m im_nest, ax_nest, cbar_nest \u001b[38;5;241m=\u001b[39m \u001b[43mpf\u001b[49m\u001b[38;5;241;43m.\u001b[39;49m\u001b[43mnestedness\u001b[49m\u001b[43m(\u001b[49m\u001b[43mplankton\u001b[49m\u001b[38;5;241;43m=\u001b[39;49m\u001b[43mplankton\u001b[49m\u001b[43m,\u001b[49m\u001b[43m \u001b[49m\u001b[43mlayer\u001b[49m\u001b[38;5;241;43m=\u001b[39;49m\u001b[43mlayer\u001b[49m\u001b[43m,\u001b[49m\u001b[43m \u001b[49m\u001b[43mfig\u001b[49m\u001b[38;5;241;43m=\u001b[39;49m\u001b[43mfig_bio\u001b[49m\u001b[43m,\u001b[49m\u001b[43m \u001b[49m\u001b[43mrows\u001b[49m\u001b[38;5;241;43m=\u001b[39;49m\u001b[43mrows\u001b[49m\u001b[43m,\u001b[49m\u001b[43m \u001b[49m\u001b[43mcols\u001b[49m\u001b[38;5;241;43m=\u001b[39;49m\u001b[43mcols\u001b[49m\u001b[43m,\u001b[49m\u001b[43m \u001b[49m\u001b[43mpos\u001b[49m\u001b[38;5;241;43m=\u001b[39;49m\u001b[38;5;241;43m3\u001b[39;49m\u001b[43m)\u001b[49m\n\u001b[0;32m     13\u001b[0m ax_nest\u001b[38;5;241m.\u001b[39mset_title(\u001b[38;5;124mr\u001b[39m\u001b[38;5;124m'\u001b[39m\u001b[38;5;124mNestedness\u001b[39m\u001b[38;5;124m'\u001b[39m)\n\u001b[0;32m     14\u001b[0m im_turn, ax_turn, cbar_turn \u001b[38;5;241m=\u001b[39m pf\u001b[38;5;241m.\u001b[39mturnover(plankton\u001b[38;5;241m=\u001b[39mplankton, layer\u001b[38;5;241m=\u001b[39mlayer, fig\u001b[38;5;241m=\u001b[39mfig_bio, rows\u001b[38;5;241m=\u001b[39mrows, cols\u001b[38;5;241m=\u001b[39mcols, pos\u001b[38;5;241m=\u001b[39m\u001b[38;5;241m4\u001b[39m)\n",
      "File \u001b[1;32mc:\\Users\\hp\\Documents\\GitHub\\Plankton\\plotting_functions.py:402\u001b[0m, in \u001b[0;36mnestedness\u001b[1;34m(plankton, layer, fig, rows, cols, pos)\u001b[0m\n\u001b[0;32m    397\u001b[0m \u001b[38;5;28;01mdef\u001b[39;00m \u001b[38;5;21mnestedness\u001b[39m(plankton, layer, fig, rows, cols, pos\u001b[38;5;241m=\u001b[39m\u001b[38;5;241m1\u001b[39m):\n\u001b[0;32m    399\u001b[0m     path \u001b[38;5;241m=\u001b[39m \u001b[38;5;124mf\u001b[39m\u001b[38;5;124m\"\u001b[39m\u001b[38;5;124mData/\u001b[39m\u001b[38;5;132;01m{\u001b[39;00mplankton\u001b[38;5;132;01m}\u001b[39;00m\u001b[38;5;124mnestedness\u001b[39m\u001b[38;5;132;01m{\u001b[39;00mlayer\u001b[38;5;132;01m}\u001b[39;00m\u001b[38;5;124m.nc\u001b[39m\u001b[38;5;124m\"\u001b[39m\n\u001b[1;32m--> 402\u001b[0m     data \u001b[38;5;241m=\u001b[39m \u001b[43mnc\u001b[49m\u001b[38;5;241;43m.\u001b[39;49m\u001b[43mDataset\u001b[49m\u001b[43m(\u001b[49m\u001b[43mpath\u001b[49m\u001b[43m)\u001b[49m\n\u001b[0;32m    403\u001b[0m     var_name \u001b[38;5;241m=\u001b[39m os\u001b[38;5;241m.\u001b[39mpath\u001b[38;5;241m.\u001b[39mbasename(path)\u001b[38;5;241m.\u001b[39msplit(\u001b[38;5;124m\"\u001b[39m\u001b[38;5;124m.\u001b[39m\u001b[38;5;124m\"\u001b[39m)[\u001b[38;5;241m0\u001b[39m] \u001b[38;5;66;03m# Check this\u001b[39;00m\n\u001b[0;32m    404\u001b[0m     \u001b[38;5;28mprint\u001b[39m(\u001b[38;5;124mf\u001b[39m\u001b[38;5;124m\"\u001b[39m\u001b[38;5;124mVariable name: \u001b[39m\u001b[38;5;132;01m{\u001b[39;00mvar_name\u001b[38;5;132;01m}\u001b[39;00m\u001b[38;5;124m\"\u001b[39m)\n",
      "File \u001b[1;32msrc\\\\netCDF4\\\\_netCDF4.pyx:2469\u001b[0m, in \u001b[0;36mnetCDF4._netCDF4.Dataset.__init__\u001b[1;34m()\u001b[0m\n",
      "File \u001b[1;32msrc\\\\netCDF4\\\\_netCDF4.pyx:2028\u001b[0m, in \u001b[0;36mnetCDF4._netCDF4._ensure_nc_success\u001b[1;34m()\u001b[0m\n",
      "\u001b[1;31mFileNotFoundError\u001b[0m: [Errno 2] No such file or directory: 'Data/phytonestednessdepth.nc'"
     ]
    }
   ],
   "source": [
    "# Mesopelagic phytoplankton\n",
    "rows = 2\n",
    "cols = 2\n",
    "layer = 'depth'\n",
    "plankton = 'phyto'\n",
    "fig_bio = plt.figure(figsize=(10, 8))\n",
    "fig_bio.suptitle(r\"Mesopelagic Phytoplankton\", fontsize=16)\n",
    "im_rich, ax_rich, cbar_rich = pf.richness(plankton=plankton, layer=layer, fig=fig_bio, rows=rows, cols=cols, pos=1)\n",
    "ax_rich.set_title(r'Richness')\n",
    "im_getis, ax_getis, cbar_getis = pf.getis(plankton=plankton, layer=layer, fig=fig_bio, rows=rows, cols=cols, pos=2)\n",
    "ax_getis.set_title(r'Gi\\*')\n",
    "im_nest, ax_nest, cbar_nest = pf.nestedness(plankton=plankton, layer=layer, fig=fig_bio, rows=rows, cols=cols, pos=3)\n",
    "ax_nest.set_title(r'Nestedness')\n",
    "im_turn, ax_turn, cbar_turn = pf.turnover(plankton=plankton, layer=layer, fig=fig_bio, rows=rows, cols=cols, pos=4)\n",
    "ax_turn.set_title(r'Turnover')\n",
    "plt.tight_layout()\n",
    "plt.savefig('Output/mesopelagic_phytoplankton.pdf')\n"
   ]
  },
  {
   "cell_type": "code",
   "execution_count": 2,
   "metadata": {},
   "outputs": [
    {
     "name": "stdout",
     "output_type": "stream",
     "text": [
      "1.0139014 54.482372\n",
      "4.287643e-08 2.920667\n",
      "-0.008528608 0.6379875\n",
      "8.753442e-05 1.0\n"
     ]
    },
    {
     "name": "stderr",
     "output_type": "stream",
     "text": [
      "c:\\Users\\hp\\miniconda3\\envs\\plankton_proj\\lib\\site-packages\\cartopy\\mpl\\geoaxes.py:1655: UserWarning: Log scale: values of z <= 0 have been masked\n",
      "  result = super().contourf(*args, **kwargs)\n"
     ]
    }
   ],
   "source": [
    "# Epipelagic zooplankton\n",
    "rows = 2\n",
    "cols = 2\n",
    "layer = 'surf'\n",
    "plankton = 'zoo'\n",
    "fig_bio = plt.figure(figsize=(10, 8))\n",
    "fig_bio.suptitle(r\"Epipelagic Zooplankton\", fontsize=16)\n",
    "im_rich, ax_rich, cbar_rich = pf.richness(plankton=plankton, layer=layer, fig=fig_bio, rows=rows, cols=cols, pos=1)\n",
    "ax_rich.set_title(r'Richness')\n",
    "im_getis, ax_getis, cbar_getis = pf.getis(plankton=plankton, layer=layer, fig=fig_bio, rows=rows, cols=cols, pos=2)\n",
    "ax_getis.set_title(r'Gi\\*')\n",
    "im_nest, ax_nest, cbar_nest = pf.nestedness(plankton=plankton, layer=layer, fig=fig_bio, rows=rows, cols=cols, pos=3)\n",
    "ax_nest.set_title(r'Nestedness')\n",
    "im_turn, ax_turn, cbar_turn = pf.turnover(plankton=plankton, layer=layer, fig=fig_bio, rows=rows, cols=cols, pos=4)\n",
    "ax_turn.set_title(r'Turnover')\n",
    "plt.tight_layout()\n",
    "plt.savefig('Output/epipelagic_zooplankton.pdf')"
   ]
  },
  {
   "cell_type": "code",
   "execution_count": 4,
   "metadata": {},
   "outputs": [
    {
     "ename": "KeyError",
     "evalue": "'zoorichnessdepth'",
     "output_type": "error",
     "traceback": [
      "\u001b[1;31m---------------------------------------------------------------------------\u001b[0m",
      "\u001b[1;31mKeyError\u001b[0m                                  Traceback (most recent call last)",
      "Cell \u001b[1;32mIn[4], line 8\u001b[0m\n\u001b[0;32m      6\u001b[0m fig_bio \u001b[38;5;241m=\u001b[39m plt\u001b[38;5;241m.\u001b[39mfigure(figsize\u001b[38;5;241m=\u001b[39m(\u001b[38;5;241m10\u001b[39m, \u001b[38;5;241m8\u001b[39m))\n\u001b[0;32m      7\u001b[0m fig_bio\u001b[38;5;241m.\u001b[39msuptitle(\u001b[38;5;124mr\u001b[39m\u001b[38;5;124m\"\u001b[39m\u001b[38;5;124mMesopelagic Zooplankton\u001b[39m\u001b[38;5;124m\"\u001b[39m, fontsize\u001b[38;5;241m=\u001b[39m\u001b[38;5;241m16\u001b[39m)\n\u001b[1;32m----> 8\u001b[0m im_rich, ax_rich, cbar_rich \u001b[38;5;241m=\u001b[39m \u001b[43mpf\u001b[49m\u001b[38;5;241;43m.\u001b[39;49m\u001b[43mrichness\u001b[49m\u001b[43m(\u001b[49m\u001b[43mplankton\u001b[49m\u001b[38;5;241;43m=\u001b[39;49m\u001b[43mplankton\u001b[49m\u001b[43m,\u001b[49m\u001b[43m \u001b[49m\u001b[43mlayer\u001b[49m\u001b[38;5;241;43m=\u001b[39;49m\u001b[43mlayer\u001b[49m\u001b[43m,\u001b[49m\u001b[43m \u001b[49m\u001b[43mfig\u001b[49m\u001b[38;5;241;43m=\u001b[39;49m\u001b[43mfig_bio\u001b[49m\u001b[43m,\u001b[49m\u001b[43m \u001b[49m\u001b[43mrows\u001b[49m\u001b[38;5;241;43m=\u001b[39;49m\u001b[43mrows\u001b[49m\u001b[43m,\u001b[49m\u001b[43m \u001b[49m\u001b[43mcols\u001b[49m\u001b[38;5;241;43m=\u001b[39;49m\u001b[43mcols\u001b[49m\u001b[43m,\u001b[49m\u001b[43m \u001b[49m\u001b[43mpos\u001b[49m\u001b[38;5;241;43m=\u001b[39;49m\u001b[38;5;241;43m1\u001b[39;49m\u001b[43m)\u001b[49m\n\u001b[0;32m      9\u001b[0m ax_rich\u001b[38;5;241m.\u001b[39mset_title(\u001b[38;5;124mr\u001b[39m\u001b[38;5;124m'\u001b[39m\u001b[38;5;124mRichness\u001b[39m\u001b[38;5;124m'\u001b[39m)\n\u001b[0;32m     10\u001b[0m im_getis, ax_getis, cbar_getis \u001b[38;5;241m=\u001b[39m pf\u001b[38;5;241m.\u001b[39mgetis(plankton\u001b[38;5;241m=\u001b[39mplankton, layer\u001b[38;5;241m=\u001b[39mlayer, fig\u001b[38;5;241m=\u001b[39mfig_bio, rows\u001b[38;5;241m=\u001b[39mrows, cols\u001b[38;5;241m=\u001b[39mcols, pos\u001b[38;5;241m=\u001b[39m\u001b[38;5;241m2\u001b[39m)\n",
      "File \u001b[1;32mc:\\Users\\hp\\Documents\\GitHub\\Plankton\\plotting_functions.py:355\u001b[0m, in \u001b[0;36mrichness\u001b[1;34m(plankton, layer, fig, rows, cols, pos)\u001b[0m\n\u001b[0;32m    352\u001b[0m     \u001b[38;5;28;01mraise\u001b[39;00m \u001b[38;5;167;01mValueError\u001b[39;00m(\u001b[38;5;124m\"\u001b[39m\u001b[38;5;124mLongitude variable not found in the netCDF file.\u001b[39m\u001b[38;5;124m\"\u001b[39m)\n\u001b[0;32m    354\u001b[0m \u001b[38;5;66;03m# Extract the data variable you want to plot\u001b[39;00m\n\u001b[1;32m--> 355\u001b[0m var \u001b[38;5;241m=\u001b[39m \u001b[43mdata\u001b[49m\u001b[38;5;241;43m.\u001b[39;49m\u001b[43mvariables\u001b[49m\u001b[43m[\u001b[49m\u001b[43mvar_name\u001b[49m\u001b[43m]\u001b[49m[:]\n\u001b[0;32m    356\u001b[0m var[var \u001b[38;5;241m<\u001b[39m\u001b[38;5;241m=\u001b[39m \u001b[38;5;241m0\u001b[39m] \u001b[38;5;241m=\u001b[39m \u001b[38;5;241m1e-2\u001b[39m\n\u001b[0;32m    357\u001b[0m \u001b[38;5;28mprint\u001b[39m(var\u001b[38;5;241m.\u001b[39mmin(), var\u001b[38;5;241m.\u001b[39mmax())\n",
      "\u001b[1;31mKeyError\u001b[0m: 'zoorichnessdepth'"
     ]
    }
   ],
   "source": [
    "# Mesopelagic zooplankton\n",
    "rows = 2\n",
    "cols = 2\n",
    "layer = 'depth'\n",
    "plankton = 'zoo'\n",
    "fig_bio = plt.figure(figsize=(10, 8))\n",
    "fig_bio.suptitle(r\"Mesopelagic Zooplankton\", fontsize=16)\n",
    "im_rich, ax_rich, cbar_rich = pf.richness(plankton=plankton, layer=layer, fig=fig_bio, rows=rows, cols=cols, pos=1)\n",
    "ax_rich.set_title(r'Richness')\n",
    "im_getis, ax_getis, cbar_getis = pf.getis(plankton=plankton, layer=layer, fig=fig_bio, rows=rows, cols=cols, pos=2)\n",
    "ax_getis.set_title(r'Gi\\*')\n",
    "im_nest, ax_nest, cbar_nest = pf.nestedness(plankton=plankton, layer=layer, fig=fig_bio, rows=rows, cols=cols, pos=3)\n",
    "ax_nest.set_title(r'Nestedness')\n",
    "im_turn, ax_turn, cbar_turn = pf.turnover(plankton=plankton, layer=layer, fig=fig_bio, rows=rows, cols=cols, pos=4)\n",
    "ax_turn.set_title(r'Turnover')\n",
    "plt.tight_layout()\n",
    "plt.savefig('Output/mesopelagic_zooplankton.pdf')"
   ]
  }
 ],
 "metadata": {
  "kernelspec": {
   "display_name": "plankton_proj",
   "language": "python",
   "name": "python3"
  },
  "language_info": {
   "codemirror_mode": {
    "name": "ipython",
    "version": 3
   },
   "file_extension": ".py",
   "mimetype": "text/x-python",
   "name": "python",
   "nbconvert_exporter": "python",
   "pygments_lexer": "ipython3",
   "version": "3.10.13"
  }
 },
 "nbformat": 4,
 "nbformat_minor": 2
}
