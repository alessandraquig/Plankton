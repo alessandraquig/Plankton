{
 "cells": [
  {
   "cell_type": "code",
   "execution_count": 1,
   "metadata": {},
   "outputs": [],
   "source": [
    "import matplotlib\n",
    "import matplotlib.pyplot as plt\n",
    "import plotting_functions as pf\n",
    "matplotlib.use('Agg')\n",
    "\n",
    "from matplotlib import rc\n",
    "this_rc_params = {\n",
    "    \"text.usetex\": True,\n",
    "    \"font.family\": \"roman\"\n",
    "}\n",
    "plt.rcParams.update(this_rc_params)"
   ]
  },
  {
   "cell_type": "markdown",
   "metadata": {},
   "source": [
    "### Plotting environmental data"
   ]
  },
  {
   "cell_type": "code",
   "execution_count": 2,
   "metadata": {},
   "outputs": [
    {
     "name": "stdout",
     "output_type": "stream",
     "text": [
      "Variable name: DO_200m\n",
      "1.2543131 322.0354\n",
      "Variable name: temperature\n",
      "-1.6358585 29.574848\n",
      "0.0004274191 7.342948\n",
      "[[False False False ... -- -- --]\n",
      " [False False False ... -- -- --]\n",
      " [False False False ... -- -- --]\n",
      " ...\n",
      " [False False False ... -- -- --]\n",
      " [False False False ... -- -- --]\n",
      " [False False False ... -- -- --]]\n",
      "min = 0.04377073794603348, max = 4.768930435180664, mean = 0.24156956878662864\n"
     ]
    }
   ],
   "source": [
    "# Plot environmental data (Figure 1)\n",
    "rows = 2\n",
    "cols = 2\n",
    "fig_enviro = plt.figure(figsize=(10, 8))\n",
    "fig_enviro.suptitle(\"Environmental Factors\", fontsize=16)\n",
    "im_DO, ax_DO, cbar_DO = pf.DO(layer='depth', fig=fig_enviro, rows=rows, cols=cols, pos=1)\n",
    "ax_DO.set_title(r'Dissolved Oxygen ($mmol/m^{3}$)')\n",
    "im_SST, ax_SST, cbar_SST = pf.SST(fig=fig_enviro, rows=rows, cols=cols, pos=2)\n",
    "ax_SST.set_title(r'Sea Surface Temperature ($^{\\circ}$C)')\n",
    "im_SiNO3, ax_SiNO3, cbar_SiNO3 = pf.SiNO3(layer='surf', fig=fig_enviro, rows=rows, cols=cols, pos=3)\n",
    "ax_SiNO3.set_title(r'Silicate/Nitrate Ratio')\n",
    "im_chlorophyll, ax_chlorophyll, cbar_chlorophyll = pf.chlorophyll(fig=fig_enviro, rows=rows, cols=cols, pos=4)\n",
    "ax_chlorophyll.set_title(r'Chlorophyll Concentration ($mg/m^{3}$)')\n",
    "plt.tight_layout()\n",
    "plt.savefig('Output/environmental_factors.pdf')"
   ]
  },
  {
   "cell_type": "markdown",
   "metadata": {},
   "source": [
    "### Plotting richness, nestedness, turnover, and Getis-Ord"
   ]
  },
  {
   "cell_type": "code",
   "execution_count": 3,
   "metadata": {},
   "outputs": [
    {
     "name": "stdout",
     "output_type": "stream",
     "text": [
      "0.01 358.1487\n",
      "1.5758242e-05 3.0126288\n",
      "Variable name: phytonestednesssurf\n",
      "-0.05500715 1.0\n",
      "4.3431305e-06 1.0\n"
     ]
    },
    {
     "name": "stderr",
     "output_type": "stream",
     "text": [
      "c:\\Users\\hp\\miniconda3\\envs\\plankton_proj\\lib\\site-packages\\cartopy\\mpl\\geoaxes.py:1655: UserWarning: Log scale: values of z <= 0 have been masked\n",
      "  result = super().contourf(*args, **kwargs)\n"
     ]
    }
   ],
   "source": [
    "# Epipelagic phytoplankton\n",
    "rows = 2\n",
    "cols = 2\n",
    "layer = 'surf'\n",
    "plankton = 'phyto'\n",
    "fig_bio = plt.figure(figsize=(10, 8))\n",
    "fig_bio.suptitle(r\"Epipelagic Phytoplankton\", fontsize=16)\n",
    "im_rich, ax_rich, cbar_rich = pf.richness(plankton=plankton, layer=layer, fig=fig_bio, rows=rows, cols=cols, pos=1)\n",
    "ax_rich.set_title(r'Richness')\n",
    "im_getis, ax_getis, cbar_getis = pf.getis(plankton=plankton, layer=layer, fig=fig_bio, rows=rows, cols=cols, pos=2)\n",
    "ax_getis.set_title(r'Gi\\*')\n",
    "im_nest, ax_nest, cbar_nest = pf.nestedness(plankton=plankton, layer=layer, fig=fig_bio, rows=rows, cols=cols, pos=3)\n",
    "ax_nest.set_title(r'Nestedness')\n",
    "im_turn, ax_turn, cbar_turn = pf.turnover(plankton=plankton, layer=layer, fig=fig_bio, rows=rows, cols=cols, pos=4)\n",
    "ax_turn.set_title(r'Turnover')\n",
    "plt.tight_layout()\n",
    "plt.savefig('Output/epipelagic_phytoplankton.pdf')\n"
   ]
  },
  {
   "cell_type": "code",
   "execution_count": 2,
   "metadata": {},
   "outputs": [
    {
     "name": "stdout",
     "output_type": "stream",
     "text": [
      "0.77725846 17.931772\n",
      "6.3237224e-09 2.3883512\n",
      "-0.004640487 0.67945033\n"
     ]
    },
    {
     "name": "stderr",
     "output_type": "stream",
     "text": [
      "c:\\Users\\hp\\miniconda3\\envs\\plankton_proj\\lib\\site-packages\\cartopy\\mpl\\geoaxes.py:1655: UserWarning: Log scale: values of z <= 0 have been masked\n",
      "  result = super().contourf(*args, **kwargs)\n"
     ]
    },
    {
     "name": "stdout",
     "output_type": "stream",
     "text": [
      "2.621698e-06 0.991482\n"
     ]
    }
   ],
   "source": [
    "# Mesopelagic phytoplankton\n",
    "rows = 2\n",
    "cols = 2\n",
    "layer = 'depth'\n",
    "plankton = 'phyto'\n",
    "fig_bio = plt.figure(figsize=(10, 8))\n",
    "fig_bio.suptitle(r\"Mesopelagic Phytoplankton\", fontsize=16)\n",
    "im_rich, ax_rich, cbar_rich = pf.richness(plankton=plankton, layer=layer, fig=fig_bio, rows=rows, cols=cols, pos=1)\n",
    "ax_rich.set_title(r'Richness')\n",
    "im_getis, ax_getis, cbar_getis = pf.getis(plankton=plankton, layer=layer, fig=fig_bio, rows=rows, cols=cols, pos=2)\n",
    "ax_getis.set_title(r'Gi\\*')\n",
    "im_nest, ax_nest, cbar_nest = pf.nestedness(plankton=plankton, layer=layer, fig=fig_bio, rows=rows, cols=cols, pos=3)\n",
    "ax_nest.set_title(r'Nestedness')\n",
    "im_turn, ax_turn, cbar_turn = pf.turnover(plankton=plankton, layer=layer, fig=fig_bio, rows=rows, cols=cols, pos=4)\n",
    "ax_turn.set_title(r'Turnover')\n",
    "plt.tight_layout()\n",
    "plt.savefig('Output/mesopelagic_phytoplankton.pdf')\n"
   ]
  },
  {
   "cell_type": "code",
   "execution_count": 2,
   "metadata": {},
   "outputs": [
    {
     "name": "stdout",
     "output_type": "stream",
     "text": [
      "1.0139014 54.482372\n",
      "4.287643e-08 2.920667\n",
      "-0.008528608 0.6379875\n",
      "8.753442e-05 1.0\n"
     ]
    },
    {
     "name": "stderr",
     "output_type": "stream",
     "text": [
      "c:\\Users\\hp\\miniconda3\\envs\\plankton_proj\\lib\\site-packages\\cartopy\\mpl\\geoaxes.py:1655: UserWarning: Log scale: values of z <= 0 have been masked\n",
      "  result = super().contourf(*args, **kwargs)\n"
     ]
    }
   ],
   "source": [
    "# Epipelagic zooplankton\n",
    "rows = 2\n",
    "cols = 2\n",
    "layer = 'surf'\n",
    "plankton = 'zoo'\n",
    "fig_bio = plt.figure(figsize=(10, 8))\n",
    "fig_bio.suptitle(r\"Epipelagic Zooplankton\", fontsize=16)\n",
    "im_rich, ax_rich, cbar_rich = pf.richness(plankton=plankton, layer=layer, fig=fig_bio, rows=rows, cols=cols, pos=1)\n",
    "ax_rich.set_title(r'Richness')\n",
    "im_getis, ax_getis, cbar_getis = pf.getis(plankton=plankton, layer=layer, fig=fig_bio, rows=rows, cols=cols, pos=2)\n",
    "ax_getis.set_title(r'Gi\\*')\n",
    "im_nest, ax_nest, cbar_nest = pf.nestedness(plankton=plankton, layer=layer, fig=fig_bio, rows=rows, cols=cols, pos=3)\n",
    "ax_nest.set_title(r'Nestedness')\n",
    "im_turn, ax_turn, cbar_turn = pf.turnover(plankton=plankton, layer=layer, fig=fig_bio, rows=rows, cols=cols, pos=4)\n",
    "ax_turn.set_title(r'Turnover')\n",
    "plt.tight_layout()\n",
    "plt.savefig('Output/epipelagic_zooplankton.pdf')"
   ]
  },
  {
   "cell_type": "code",
   "execution_count": 2,
   "metadata": {},
   "outputs": [
    {
     "name": "stdout",
     "output_type": "stream",
     "text": [
      "4.4389747e-08 3.0676308\n",
      "4.4389747e-08 3.0676308\n",
      "0.29804838 0.9969639\n",
      "0.29804838 0.9969639\n"
     ]
    }
   ],
   "source": [
    "# Mesopelagic zooplankton\n",
    "rows = 2\n",
    "cols = 2\n",
    "layer = 'depth'\n",
    "plankton = 'zoo'\n",
    "fig_bio = plt.figure(figsize=(10, 8))\n",
    "fig_bio.suptitle(r\"Mesopelagic Zooplankton\", fontsize=16)\n",
    "im_rich, ax_rich, cbar_rich = pf.richness(plankton=plankton, layer=layer, fig=fig_bio, rows=rows, cols=cols, pos=1)\n",
    "ax_rich.set_title(r'Richness')\n",
    "im_getis, ax_getis, cbar_getis = pf.getis(plankton=plankton, layer=layer, fig=fig_bio, rows=rows, cols=cols, pos=2)\n",
    "ax_getis.set_title(r'Gi\\*')\n",
    "im_nest, ax_nest, cbar_nest = pf.nestedness(plankton=plankton, layer=layer, fig=fig_bio, rows=rows, cols=cols, pos=3)\n",
    "ax_nest.set_title(r'Nestedness')\n",
    "im_turn, ax_turn, cbar_turn = pf.turnover(plankton=plankton, layer=layer, fig=fig_bio, rows=rows, cols=cols, pos=4)\n",
    "ax_turn.set_title(r'Turnover')\n",
    "plt.tight_layout()\n",
    "plt.savefig('Output/mesopelagic_zooplankton.pdf')"
   ]
  }
 ],
 "metadata": {
  "kernelspec": {
   "display_name": "plankton_proj",
   "language": "python",
   "name": "python3"
  },
  "language_info": {
   "codemirror_mode": {
    "name": "ipython",
    "version": 3
   },
   "file_extension": ".py",
   "mimetype": "text/x-python",
   "name": "python",
   "nbconvert_exporter": "python",
   "pygments_lexer": "ipython3",
   "version": "3.10.13"
  }
 },
 "nbformat": 4,
 "nbformat_minor": 2
}
